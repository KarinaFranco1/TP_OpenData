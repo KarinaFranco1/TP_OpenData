{
  "nbformat": 4,
  "nbformat_minor": 0,
  "metadata": {
    "colab": {
      "name": "Rondina2.0.ipynb",
      "provenance": [],
      "collapsed_sections": []
    },
    "kernelspec": {
      "name": "python3",
      "display_name": "Python 3"
    },
    "language_info": {
      "name": "python"
    }
  },
  "cells": [
    {
      "cell_type": "code",
      "metadata": {
        "id": "pDXH6ABbM9WZ"
      },
      "source": [
        "import pandas as pd\n",
        "import numpy as np\n",
        "import matplotlib.pyplot as plt\n",
        "import seaborn as sns\n",
        "%matplotlib inline\n",
        "import re\n",
        "import time\n",
        "from datetime import datetime\n",
        "import matplotlib.dates as mdates\n",
        "import matplotlib.ticker as ticker\n",
        "from urllib.request import urlopen\n",
        "from bs4 import BeautifulSoup\n",
        "import requests"
      ],
      "execution_count": null,
      "outputs": []
    },
    {
      "cell_type": "code",
      "metadata": {
        "id": "F2IV3aESM_C0"
      },
      "source": [
        "count = 1\n",
        "pages = 4\n",
        "productos = list()\n",
        "precios = list()\n",
        "headers={ 'User-Agent':'Mozilla/5.0 (Windows NT 6.1) AppleWebKit/537.36 (KHTML, like Gecko) Chrome/41.0.2228.0 Safari/537.3'}\n",
        "URL = \"https://www.faenzaasuncion.com/collections/all?page=\"\n",
        "# Realizamos la petición a la web\n",
        "while count <= pages:\n",
        "  req = requests.get(URL+str(count), headers=headers)\n",
        "  content = req.content\n",
        "# Comprobamos que la petición nos devuelve un Status Code = 200\n",
        "  status_code = req.status_code\n",
        "  if status_code == 200:\n",
        "      # Pasamos el contenido HTML de la web a un objeto BeautifulSoup()\n",
        "      html = BeautifulSoup(req.text, \"html.parser\")\n",
        "      # Obtenemos todos los divs donde están las entradas\n",
        "      entradas = html.find_all('span', {'class': 'product-item__meta__inner'})\n",
        "      # Recorremos todas las entradas para extraer el título, autor y fecha\n",
        "      for i, entrada in enumerate(entradas):\n",
        "          # Con el método \"getText()\" no nos devuelve el HTML\n",
        "          # Sino llamamos al método \"getText()\" nos devuelve también el HTML\n",
        "          titulo = entrada.find('p', {'class': 'product-item__title'}).getText()\n",
        "          productos.append(titulo)\n",
        "        #precios = list()\n",
        "          precio = entrada.find('p', {'class': 'product-item__price-wrapper'}).getText()\n",
        "          precios.append(precio)\n",
        "      count = count+1"
      ],
      "execution_count": null,
      "outputs": []
    },
    {
      "cell_type": "code",
      "metadata": {
        "colab": {
          "base_uri": "https://localhost:8080/"
        },
        "id": "S63Nz5QLQIWW",
        "outputId": "7eb80852-a35c-4237-ec9b-bde4f8fb5d2f"
      },
      "source": [
        "productos"
      ],
      "execution_count": null,
      "outputs": [
        {
          "output_type": "execute_result",
          "data": {
            "text/plain": [
              "['Blusa Groom',\n",
              " 'Blusa Menorca White',\n",
              " 'Camisa Oversize Olbia',\n",
              " 'Campera Denim Batik',\n",
              " 'Campera Denim Florencia',\n",
              " 'Campera Denim Garda',\n",
              " 'Campera Denim Zante',\n",
              " 'Campera jeans Val oscura.',\n",
              " 'Campera Tropea',\n",
              " 'Camperita de jeans VAL',\n",
              " 'Cargo Violet Jeans',\n",
              " 'Crop Top Agnes Black',\n",
              " 'Crop Top Barca',\n",
              " 'Crop Top Raona Pink',\n",
              " 'Crop Top Wild',\n",
              " 'CropTop Flares Denim',\n",
              " 'Enterizo Bonapart',\n",
              " 'Jeans Alguero',\n",
              " 'Jeans Britney Oversized',\n",
              " 'Kimono Juno',\n",
              " 'Pantalón Cargo Martinica',\n",
              " 'Pantalon Cargo Palomino',\n",
              " 'Pantalon Creta',\n",
              " 'Pantalon Juno',\n",
              " 'Pantalon Salento',\n",
              " 'Pantalon Snake Denim',\n",
              " 'Pantalon Zoe',\n",
              " 'Pollera Bari',\n",
              " 'Saco Chaleco Catania',\n",
              " 'Saco Munich Blue',\n",
              " 'Saco Munich tricot',\n",
              " 'Saco Munich White',\n",
              " 'Saco Tricot Munich Pink',\n",
              " 'Short De Jeans Claro.',\n",
              " 'Short De Jeans Oscuro',\n",
              " 'Short Milo Animal',\n",
              " 'Short Pollera Paros',\n",
              " 'Short Rio',\n",
              " 'Sweater Rimini',\n",
              " 'T-Shirt Bling',\n",
              " 'T-Shirt Bling Nirvana',\n",
              " 'T-shirt Con Hombrera Blanca',\n",
              " 'T-shirt Con Hombrera Gris',\n",
              " 'T-Shirt Lylla',\n",
              " 'T-shirt Nashville',\n",
              " 'Top Bari',\n",
              " 'Top Bianca',\n",
              " 'Top Celine Black.',\n",
              " 'Top Celine White',\n",
              " 'Top Glory',\n",
              " 'Top Marie Lynn Black',\n",
              " 'Top Marie Lynn Green',\n",
              " 'Top Palmarola Green',\n",
              " 'Top Raona Azul',\n",
              " 'Top Raona Celeste',\n",
              " 'Top Raona Granate',\n",
              " 'Top Raona Negro',\n",
              " 'Top Raona Rojo',\n",
              " 'Top Raona Verde',\n",
              " 'Top Raona Verde',\n",
              " 'Top Rio',\n",
              " 'Vestido Beller',\n",
              " 'Vestido Caiman Print',\n",
              " 'Vestido Cayo Coco',\n",
              " 'Vestido Ines',\n",
              " 'Vestido Isabella',\n",
              " 'Vestido Juno',\n",
              " 'Vestido Lido',\n",
              " 'Vestido Louise Black',\n",
              " 'Vestido Marie Galante',\n",
              " 'Vestido Marine',\n",
              " 'Vestido Mustique Print',\n",
              " 'Vestido Paloma Pink']"
            ]
          },
          "metadata": {
            "tags": []
          },
          "execution_count": 4
        }
      ]
    },
    {
      "cell_type": "code",
      "metadata": {
        "colab": {
          "base_uri": "https://localhost:8080/"
        },
        "id": "h8cSEq9gQPml",
        "outputId": "ed322e9e-81d1-4aa5-95db-780c8d15ab30"
      },
      "source": [
        "precios"
      ],
      "execution_count": null,
      "outputs": [
        {
          "output_type": "execute_result",
          "data": {
            "text/plain": [
              "['\\nPrecio habitual\\n                  \\n                  Gs. 245.000\\n\\n              \\n            ',\n",
              " '\\nPrecio habitual\\n                  \\n                  Gs. 320.000\\n\\n              \\n            ',\n",
              " '\\nPrecio habitual\\n                  \\n                  Gs. 460.000\\n\\n              \\n            ',\n",
              " '\\nPrecio habitual\\n                  \\n                  Gs. 460.000\\n\\n              \\n            ',\n",
              " '\\nPrecio habitual\\n                  \\n                  Gs. 460.000\\n\\n              \\n            ',\n",
              " '\\nPrecio habitual\\n                  \\n                  Gs. 545.000\\n\\n              \\n            ',\n",
              " '\\nPrecio habitual\\n                  \\n                  Gs. 490.000\\n\\n              \\n            ',\n",
              " '\\nPrecio habitual\\n                  \\n                  Gs. 395.000\\n\\n              \\n            ',\n",
              " '\\nPrecio habitual\\n                  \\n                  Gs. 395.000\\n\\n              \\n            ',\n",
              " '\\nPrecio habitual\\n                  \\n                  Gs. 395.000\\n\\n              \\n            ',\n",
              " '\\nPrecio habitual\\n                  \\n                  Gs. 310.000\\n\\n              \\n            ',\n",
              " '\\nPrecio habitual\\n                  \\n                  Gs. 195.000\\n\\n              \\n            ',\n",
              " '\\nPrecio habitual\\n                  \\n                  Gs. 160.000\\n\\n              \\n            ',\n",
              " '\\nPrecio habitual\\n                  \\n                  Gs. 160.000\\n\\n              \\n            ',\n",
              " '\\nPrecio habitual\\n                  \\n                  Gs. 160.000\\n\\n              \\n            ',\n",
              " '\\nPrecio habitual\\n                  \\n                  Gs. 260.000\\n\\n              \\n            ',\n",
              " '\\nPrecio habitual\\n                  \\n                  Gs. 345.000\\n\\n              \\n            ',\n",
              " '\\nPrecio habitual\\n                  \\n                  Gs. 330.000\\n\\n              \\n            ',\n",
              " '\\nPrecio habitual\\n                  \\n                  Gs. 330.000\\n\\n              \\n            ',\n",
              " '\\nPrecio habitual\\n                  \\n                  Gs. 490.000\\n\\n              \\n            ',\n",
              " '\\nPrecio habitual\\n                  \\n                  Gs. 430.000\\n\\n              \\n            ',\n",
              " '\\nPrecio habitual\\n                  \\n                  Gs. 430.000\\n\\n              \\n            ',\n",
              " '\\nPrecio habitual\\n                  \\n                  Gs. 520.000\\n\\n              \\n            ',\n",
              " '\\nPrecio habitual\\n                  \\n                  Gs. 445.000\\n\\n              \\n            ',\n",
              " '\\nPrecio habitual\\n                  \\n                  Gs. 290.000\\n\\n              \\n            ',\n",
              " '\\nPrecio habitual\\n                  \\n                  Gs. 290.000\\n\\n              \\n            ',\n",
              " '\\nPrecio habitual\\n                  \\n                  Gs. 495.000\\n\\n              \\n            ',\n",
              " '\\nPrecio habitual\\n                  \\n                  Gs. 495.000\\n\\n              \\n            ',\n",
              " '\\nPrecio habitual\\n                  \\n                  Gs. 245.000\\n\\n              \\n            ',\n",
              " '\\nPrecio habitual\\n                  \\n                  Gs. 345.000\\n\\n              \\n            ',\n",
              " '\\nPrecio habitual\\n                  \\n                  Gs. 345.000\\n\\n              \\n            ',\n",
              " '\\nPrecio habitual\\n                  \\n                  Gs. 345.000\\n\\n              \\n            ',\n",
              " '\\nPrecio habitual\\n                  \\n                  Gs. 345.000\\n\\n              \\n            ',\n",
              " '\\nPrecio habitual\\n                  \\n                  Gs. 335.000\\n\\n              \\n            ',\n",
              " '\\nPrecio habitual\\n                  \\n                  Gs. 335.000\\n\\n              \\n            ',\n",
              " '\\nPrecio habitual\\n                  \\n                  Gs. 345.000\\n\\n              \\n            ',\n",
              " '\\nPrecio habitual\\n                  \\n                  Gs. 175.000\\n\\n              \\n            ',\n",
              " '\\nPrecio habitual\\n                  \\n                  Gs. 290.000\\n\\n              \\n            ',\n",
              " '\\nPrecio habitual\\n                  \\n                  Gs. 290.000\\n\\n              \\n            ',\n",
              " '\\nPrecio habitual\\n                  \\n                  Gs. 245.000\\n\\n              \\n            ',\n",
              " '\\nPrecio habitual\\n                  \\n                  Gs. 245.000\\n\\n              \\n            ',\n",
              " '\\nPrecio habitual\\n                  \\n                  Gs. 145.000\\n\\n              \\n            ',\n",
              " '\\nPrecio habitual\\n                  \\n                  Gs. 145.000\\n\\n              \\n            ',\n",
              " '\\nPrecio habitual\\n                  \\n                  Gs. 245.000\\n\\n              \\n            ',\n",
              " '\\nPrecio habitual\\n                  \\n                  Gs. 230.000\\n\\n              \\n            ',\n",
              " '\\nPrecio habitual\\n                  \\n                  Gs. 290.000\\n\\n              \\n            ',\n",
              " '\\nPrecio habitual\\n                  \\n                  Gs. 220.000\\n\\n              \\n            ',\n",
              " '\\nPrecio habitual\\n                  \\n                  Gs. 160.000\\n\\n              \\n            ',\n",
              " '\\nPrecio habitual\\n                  \\n                  Gs. 160.000\\n\\n              \\n            ',\n",
              " '\\nPrecio habitual\\n                  \\n                  Gs. 220.000\\n\\n              \\n            ',\n",
              " '\\nPrecio habitual\\n                  \\n                  Gs. 270.000\\n\\n              \\n            ',\n",
              " '\\nPrecio habitual\\n                  \\n                  Gs. 270.000\\n\\n              \\n            ',\n",
              " '\\nPrecio habitual\\n                  \\n                  Gs. 195.000\\n\\n              \\n            ',\n",
              " '\\nPrecio habitual\\n                  \\n                  Gs. 160.000\\n\\n              \\n            ',\n",
              " '\\nPrecio habitual\\n                  \\n                  Gs. 160.000\\n\\n              \\n            ',\n",
              " '\\nPrecio habitual\\n                  \\n                  Gs. 160.000\\n\\n              \\n            ',\n",
              " '\\nPrecio habitual\\n                  \\n                  Gs. 160.000\\n\\n              \\n            ',\n",
              " '\\nPrecio habitual\\n                  \\n                  Gs. 160.000\\n\\n              \\n            ',\n",
              " '\\nPrecio habitual\\n                  \\n                  Gs. 160.000\\n\\n              \\n            ',\n",
              " '\\nPrecio habitual\\n                  \\n                  Gs. 160.000\\n\\n              \\n            ',\n",
              " '\\nPrecio habitual\\n                  \\n                  Gs. 240.000\\n\\n              \\n            ',\n",
              " '\\nPrecio habitual\\n                  \\n                  Gs. 420.000\\n\\n              \\n            ',\n",
              " '\\nPrecio habitual\\n                  \\n                  Gs. 445.000\\n\\n              \\n            ',\n",
              " '\\nPrecio habitual\\n                  \\n                  Gs. 445.000\\n\\n              \\n            ',\n",
              " '\\nPrecio habitual\\n                  \\n                  Gs. 390.000\\n\\n              \\n            ',\n",
              " '\\nPrecio habitual\\n                  \\n                  Gs. 495.000\\n\\n              \\n            ',\n",
              " '\\nPrecio habitual\\n                  \\n                  Gs. 520.000\\n\\n              \\n            ',\n",
              " '\\nPrecio habitual\\n                  \\n                  Gs. 620.000\\n\\n              \\n            ',\n",
              " '\\nPrecio habitual\\n                  \\n                  Gs. 390.000\\n\\n              \\n            ',\n",
              " '\\nPrecio habitual\\n                  \\n                  Gs. 445.000\\n\\n              \\n            ',\n",
              " '\\nPrecio habitual\\n                  \\n                  Gs. 420.000\\n\\n              \\n            ',\n",
              " '\\nPrecio habitual\\n                  \\n                  Gs. 390.000\\n\\n              \\n            ',\n",
              " '\\nPrecio habitual\\n                  \\n                  Gs. 390.000\\n\\n              \\n            ']"
            ]
          },
          "metadata": {
            "tags": []
          },
          "execution_count": 5
        }
      ]
    },
    {
      "cell_type": "code",
      "metadata": {
        "colab": {
          "base_uri": "https://localhost:8080/"
        },
        "id": "7P2jYaL_n3rf",
        "outputId": "9a5b6b88-fae5-4a46-b8c3-53ba5da58350"
      },
      "source": [
        "listadePrecios = []\n",
        "for l in precios:\n",
        "    aux = l.split()\n",
        "    listadePrecios.append(aux[3])\n",
        "print(listadePrecios)"
      ],
      "execution_count": null,
      "outputs": [
        {
          "output_type": "stream",
          "text": [
            "['245.000', '320.000', '460.000', '460.000', '460.000', '545.000', '490.000', '395.000', '395.000', '395.000', '310.000', '195.000', '160.000', '160.000', '160.000', '260.000', '345.000', '330.000', '330.000', '490.000', '430.000', '430.000', '520.000', '445.000', '290.000', '290.000', '495.000', '495.000', '245.000', '345.000', '345.000', '345.000', '345.000', '335.000', '335.000', '345.000', '175.000', '290.000', '290.000', '245.000', '245.000', '145.000', '145.000', '245.000', '230.000', '290.000', '220.000', '160.000', '160.000', '220.000', '270.000', '270.000', '195.000', '160.000', '160.000', '160.000', '160.000', '160.000', '160.000', '160.000', '240.000', '420.000', '445.000', '445.000', '390.000', '495.000', '520.000', '620.000', '390.000', '445.000', '420.000', '390.000', '390.000']\n"
          ],
          "name": "stdout"
        }
      ]
    },
    {
      "cell_type": "code",
      "metadata": {
        "id": "GkXSaii7q4Ru"
      },
      "source": [
        "from datetime import date\n",
        "today = date.today()\n",
        "dateToday = today.strftime(\"%d/%m/%Y\")"
      ],
      "execution_count": null,
      "outputs": []
    },
    {
      "cell_type": "code",
      "metadata": {
        "colab": {
          "base_uri": "https://localhost:8080/"
        },
        "id": "xUp4QggUpF3O",
        "outputId": "83c00c59-78a1-4098-9362-a59392f006c8"
      },
      "source": [
        "data = {'Productos':productos,\n",
        "        'Precio': listadePrecios,\n",
        "        'Fecha': dateToday}\n",
        "df = pd.DataFrame(data, columns= ['Productos', 'Precio', 'Fecha'])\n",
        "df.to_csv('Rondina_productos.csv', index = False, header=True)\n",
        "print (df)"
      ],
      "execution_count": null,
      "outputs": [
        {
          "output_type": "stream",
          "text": [
            "                  Productos   Precio       Fecha\n",
            "0               Blusa Groom  245.000  12/06/2021\n",
            "1       Blusa Menorca White  320.000  12/06/2021\n",
            "2     Camisa Oversize Olbia  460.000  12/06/2021\n",
            "3       Campera Denim Batik  460.000  12/06/2021\n",
            "4   Campera Denim Florencia  460.000  12/06/2021\n",
            "..                      ...      ...         ...\n",
            "68     Vestido Louise Black  390.000  12/06/2021\n",
            "69    Vestido Marie Galante  445.000  12/06/2021\n",
            "70           Vestido Marine  420.000  12/06/2021\n",
            "71   Vestido Mustique Print  390.000  12/06/2021\n",
            "72      Vestido Paloma Pink  390.000  12/06/2021\n",
            "\n",
            "[73 rows x 3 columns]\n"
          ],
          "name": "stdout"
        }
      ]
    },
    {
      "cell_type": "code",
      "metadata": {
        "colab": {
          "base_uri": "https://localhost:8080/",
          "height": 402
        },
        "id": "43Zr8iw4x4jU",
        "outputId": "ea4fdb04-73c9-495e-c23e-467a286e2975"
      },
      "source": [
        "df"
      ],
      "execution_count": null,
      "outputs": [
        {
          "output_type": "execute_result",
          "data": {
            "text/html": [
              "<div>\n",
              "<style scoped>\n",
              "    .dataframe tbody tr th:only-of-type {\n",
              "        vertical-align: middle;\n",
              "    }\n",
              "\n",
              "    .dataframe tbody tr th {\n",
              "        vertical-align: top;\n",
              "    }\n",
              "\n",
              "    .dataframe thead th {\n",
              "        text-align: right;\n",
              "    }\n",
              "</style>\n",
              "<table border=\"1\" class=\"dataframe\">\n",
              "  <thead>\n",
              "    <tr style=\"text-align: right;\">\n",
              "      <th></th>\n",
              "      <th>Productos</th>\n",
              "      <th>Precio</th>\n",
              "      <th>Fecha</th>\n",
              "    </tr>\n",
              "  </thead>\n",
              "  <tbody>\n",
              "    <tr>\n",
              "      <th>0</th>\n",
              "      <td>Blusa Groom</td>\n",
              "      <td>245.000</td>\n",
              "      <td>12/06/2021</td>\n",
              "    </tr>\n",
              "    <tr>\n",
              "      <th>1</th>\n",
              "      <td>Blusa Menorca White</td>\n",
              "      <td>320.000</td>\n",
              "      <td>12/06/2021</td>\n",
              "    </tr>\n",
              "    <tr>\n",
              "      <th>2</th>\n",
              "      <td>Camisa Oversize Olbia</td>\n",
              "      <td>460.000</td>\n",
              "      <td>12/06/2021</td>\n",
              "    </tr>\n",
              "    <tr>\n",
              "      <th>3</th>\n",
              "      <td>Campera Denim Batik</td>\n",
              "      <td>460.000</td>\n",
              "      <td>12/06/2021</td>\n",
              "    </tr>\n",
              "    <tr>\n",
              "      <th>4</th>\n",
              "      <td>Campera Denim Florencia</td>\n",
              "      <td>460.000</td>\n",
              "      <td>12/06/2021</td>\n",
              "    </tr>\n",
              "    <tr>\n",
              "      <th>...</th>\n",
              "      <td>...</td>\n",
              "      <td>...</td>\n",
              "      <td>...</td>\n",
              "    </tr>\n",
              "    <tr>\n",
              "      <th>68</th>\n",
              "      <td>Vestido Louise Black</td>\n",
              "      <td>390.000</td>\n",
              "      <td>12/06/2021</td>\n",
              "    </tr>\n",
              "    <tr>\n",
              "      <th>69</th>\n",
              "      <td>Vestido Marie Galante</td>\n",
              "      <td>445.000</td>\n",
              "      <td>12/06/2021</td>\n",
              "    </tr>\n",
              "    <tr>\n",
              "      <th>70</th>\n",
              "      <td>Vestido Marine</td>\n",
              "      <td>420.000</td>\n",
              "      <td>12/06/2021</td>\n",
              "    </tr>\n",
              "    <tr>\n",
              "      <th>71</th>\n",
              "      <td>Vestido Mustique Print</td>\n",
              "      <td>390.000</td>\n",
              "      <td>12/06/2021</td>\n",
              "    </tr>\n",
              "    <tr>\n",
              "      <th>72</th>\n",
              "      <td>Vestido Paloma Pink</td>\n",
              "      <td>390.000</td>\n",
              "      <td>12/06/2021</td>\n",
              "    </tr>\n",
              "  </tbody>\n",
              "</table>\n",
              "<p>73 rows × 3 columns</p>\n",
              "</div>"
            ],
            "text/plain": [
              "                  Productos   Precio       Fecha\n",
              "0               Blusa Groom  245.000  12/06/2021\n",
              "1       Blusa Menorca White  320.000  12/06/2021\n",
              "2     Camisa Oversize Olbia  460.000  12/06/2021\n",
              "3       Campera Denim Batik  460.000  12/06/2021\n",
              "4   Campera Denim Florencia  460.000  12/06/2021\n",
              "..                      ...      ...         ...\n",
              "68     Vestido Louise Black  390.000  12/06/2021\n",
              "69    Vestido Marie Galante  445.000  12/06/2021\n",
              "70           Vestido Marine  420.000  12/06/2021\n",
              "71   Vestido Mustique Print  390.000  12/06/2021\n",
              "72      Vestido Paloma Pink  390.000  12/06/2021\n",
              "\n",
              "[73 rows x 3 columns]"
            ]
          },
          "metadata": {
            "tags": []
          },
          "execution_count": 10
        }
      ]
    }
  ]
}